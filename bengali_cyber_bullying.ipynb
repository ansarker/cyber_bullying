{
  "nbformat": 4,
  "nbformat_minor": 0,
  "metadata": {
    "colab": {
      "provenance": [],
      "authorship_tag": "ABX9TyP3XcA17ZmbOn07D/V0tX6U",
      "include_colab_link": true
    },
    "kernelspec": {
      "name": "python3",
      "display_name": "Python 3"
    },
    "language_info": {
      "name": "python"
    }
  },
  "cells": [
    {
      "cell_type": "markdown",
      "metadata": {
        "id": "view-in-github",
        "colab_type": "text"
      },
      "source": [
        "<a href=\"https://colab.research.google.com/github/ansarker/cyber_bullying/blob/main/bengali_cyber_bullying.ipynb\" target=\"_parent\"><img src=\"https://colab.research.google.com/assets/colab-badge.svg\" alt=\"Open In Colab\"/></a>"
      ]
    },
    {
      "cell_type": "markdown",
      "source": [
        "# Install necessary libraries"
      ],
      "metadata": {
        "id": "cs9-F4s1IA28"
      }
    },
    {
      "cell_type": "code",
      "source": [
        "!pip3 install bnlp-toolkit"
      ],
      "metadata": {
        "colab": {
          "base_uri": "https://localhost:8080/"
        },
        "id": "RMku0NMUH_mJ",
        "outputId": "0ca18ac7-b86f-4fff-d1ca-a25c33370b5b"
      },
      "execution_count": 258,
      "outputs": [
        {
          "output_type": "stream",
          "name": "stdout",
          "text": [
            "Requirement already satisfied: bnlp-toolkit in /usr/local/lib/python3.10/dist-packages (4.0.0)\n",
            "Requirement already satisfied: sentencepiece in /usr/local/lib/python3.10/dist-packages (from bnlp-toolkit) (0.1.99)\n",
            "Requirement already satisfied: gensim in /usr/local/lib/python3.10/dist-packages (from bnlp-toolkit) (4.3.2)\n",
            "Requirement already satisfied: nltk in /usr/local/lib/python3.10/dist-packages (from bnlp-toolkit) (3.8.1)\n",
            "Requirement already satisfied: numpy in /usr/local/lib/python3.10/dist-packages (from bnlp-toolkit) (1.23.5)\n",
            "Requirement already satisfied: scipy in /usr/local/lib/python3.10/dist-packages (from bnlp-toolkit) (1.11.4)\n",
            "Requirement already satisfied: sklearn-crfsuite in /usr/local/lib/python3.10/dist-packages (from bnlp-toolkit) (0.3.6)\n",
            "Requirement already satisfied: tqdm in /usr/local/lib/python3.10/dist-packages (from bnlp-toolkit) (4.66.1)\n",
            "Requirement already satisfied: ftfy in /usr/local/lib/python3.10/dist-packages (from bnlp-toolkit) (6.1.3)\n",
            "Requirement already satisfied: emoji==1.7.0 in /usr/local/lib/python3.10/dist-packages (from bnlp-toolkit) (1.7.0)\n",
            "Requirement already satisfied: requests in /usr/local/lib/python3.10/dist-packages (from bnlp-toolkit) (2.31.0)\n",
            "Requirement already satisfied: wcwidth<0.3.0,>=0.2.12 in /usr/local/lib/python3.10/dist-packages (from ftfy->bnlp-toolkit) (0.2.13)\n",
            "Requirement already satisfied: smart-open>=1.8.1 in /usr/local/lib/python3.10/dist-packages (from gensim->bnlp-toolkit) (6.4.0)\n",
            "Requirement already satisfied: click in /usr/local/lib/python3.10/dist-packages (from nltk->bnlp-toolkit) (8.1.7)\n",
            "Requirement already satisfied: joblib in /usr/local/lib/python3.10/dist-packages (from nltk->bnlp-toolkit) (1.3.2)\n",
            "Requirement already satisfied: regex>=2021.8.3 in /usr/local/lib/python3.10/dist-packages (from nltk->bnlp-toolkit) (2023.6.3)\n",
            "Requirement already satisfied: charset-normalizer<4,>=2 in /usr/local/lib/python3.10/dist-packages (from requests->bnlp-toolkit) (3.3.2)\n",
            "Requirement already satisfied: idna<4,>=2.5 in /usr/local/lib/python3.10/dist-packages (from requests->bnlp-toolkit) (3.6)\n",
            "Requirement already satisfied: urllib3<3,>=1.21.1 in /usr/local/lib/python3.10/dist-packages (from requests->bnlp-toolkit) (2.0.7)\n",
            "Requirement already satisfied: certifi>=2017.4.17 in /usr/local/lib/python3.10/dist-packages (from requests->bnlp-toolkit) (2023.11.17)\n",
            "Requirement already satisfied: python-crfsuite>=0.8.3 in /usr/local/lib/python3.10/dist-packages (from sklearn-crfsuite->bnlp-toolkit) (0.9.10)\n",
            "Requirement already satisfied: six in /usr/local/lib/python3.10/dist-packages (from sklearn-crfsuite->bnlp-toolkit) (1.16.0)\n",
            "Requirement already satisfied: tabulate in /usr/local/lib/python3.10/dist-packages (from sklearn-crfsuite->bnlp-toolkit) (0.9.0)\n"
          ]
        }
      ]
    },
    {
      "cell_type": "code",
      "execution_count": 259,
      "metadata": {
        "id": "5B_JgEbtY6ZV"
      },
      "outputs": [],
      "source": [
        "import numpy as np\n",
        "import pandas as pd\n",
        "from tqdm import tqdm\n",
        "import seaborn as sns\n",
        "import matplotlib.pyplot as plt\n",
        "import torch\n",
        "import torch.nn as nn\n",
        "import torch.optim as optim\n",
        "from torch.utils.data import DataLoader, TensorDataset\n",
        "from sklearn.model_selection import train_test_split\n",
        "from sklearn.metrics import accuracy_score, classification_report\n",
        "from sklearn.metrics import confusion_matrix\n",
        "from tensorflow.keras.preprocessing.text import Tokenizer\n",
        "from tensorflow.keras.preprocessing.sequence import pad_sequences\n",
        "from bnlp import BasicTokenizer\n",
        "\n",
        "%matplotlib inline"
      ]
    },
    {
      "cell_type": "code",
      "source": [
        "dataframe = pd.read_excel(\"/content/CyberBulling_Dataset_Bangla.xlsx\")\n",
        "print(dataframe.tail(10))"
      ],
      "metadata": {
        "id": "Pdz39BsoZaOP",
        "colab": {
          "base_uri": "https://localhost:8080/"
        },
        "outputId": "62d92d3f-f0aa-4b06-f236-181c8f31041d"
      },
      "execution_count": 260,
      "outputs": [
        {
          "output_type": "stream",
          "name": "stdout",
          "text": [
            "      Unnamed: 0                                        Description    Label\n",
            "6000        6000  আওয়ামী লীগ একমাত্র দল দেশের ক্লান্তি কালে জনগন...  Neutral\n",
            "6001        6001  ওরে নিয়া যে ছবি বানায় সে কি পরিচালক না অন্য ...  Neutral\n",
            "6002        6002                            অনেক অনেক শুভেচ্ছা রইল।  Neutral\n",
            "6003        6003                                             সুভ্রা  Neutral\n",
            "6004        6004  সজীব জয় এত নিচু মনে মানুষ বুঝতে আর দেরি হলনা এ...  Neutral\n",
            "6005        6005                                          কপাল পোড়া  Neutral\n",
            "6006        6006  আল্লাহ আপনাকে হেদায়েত দান করুক আমীন।আমিও একজন ...  Neutral\n",
            "6007        6007  শুধু সুন্দর চেহারার হিরো আপনি নন, সুন্দর মনের ...  Neutral\n",
            "6008        6008  আল্লাহ আপনাকে সুস্থ রাখুক। ভাইরাস থেকে দেশের ম...  Neutral\n",
            "6009        6009            আল্লাহ আপনার উপর রহমত বর্ষণ করুন, আমিন।  Neutral\n"
          ]
        }
      ]
    },
    {
      "cell_type": "code",
      "source": [
        "print(dataframe.info())\n",
        "print(dataframe.describe())\n",
        "print(dataframe['Label'].value_counts())"
      ],
      "metadata": {
        "colab": {
          "base_uri": "https://localhost:8080/"
        },
        "id": "TRyCXwo2iQ38",
        "outputId": "0f5d876b-cf08-41e9-848e-e003513fdfd6"
      },
      "execution_count": 261,
      "outputs": [
        {
          "output_type": "stream",
          "name": "stdout",
          "text": [
            "<class 'pandas.core.frame.DataFrame'>\n",
            "RangeIndex: 6010 entries, 0 to 6009\n",
            "Data columns (total 3 columns):\n",
            " #   Column       Non-Null Count  Dtype \n",
            "---  ------       --------------  ----- \n",
            " 0   Unnamed: 0   6010 non-null   int64 \n",
            " 1   Description  6010 non-null   object\n",
            " 2   Label        6010 non-null   object\n",
            "dtypes: int64(1), object(2)\n",
            "memory usage: 141.0+ KB\n",
            "None\n",
            "       Unnamed: 0\n",
            "count  6010.00000\n",
            "mean   3004.50000\n",
            "std    1735.08189\n",
            "min       0.00000\n",
            "25%    1502.25000\n",
            "50%    3004.50000\n",
            "75%    4506.75000\n",
            "max    6009.00000\n",
            "Political    1205\n",
            "troll        1202\n",
            "sexual       1201\n",
            "Threat       1201\n",
            "Neutral      1201\n",
            "Name: Label, dtype: int64\n"
          ]
        }
      ]
    },
    {
      "cell_type": "code",
      "source": [
        "dataframe[\"Label\"].value_counts().plot(kind=\"bar\")\n",
        "plt.show()"
      ],
      "metadata": {
        "colab": {
          "base_uri": "https://localhost:8080/",
          "height": 469
        },
        "id": "p2hWltmccuEH",
        "outputId": "79ae8299-99e9-4512-c5e0-98a32a845fc6"
      },
      "execution_count": 262,
      "outputs": [
        {
          "output_type": "display_data",
          "data": {
            "text/plain": [
              "<Figure size 640x480 with 1 Axes>"
            ],
            "image/png": "[encoded data removed]"
          },
          "metadata": {}
        }
      ]
    },
    {
      "cell_type": "code",
      "source": [
        "print(dataframe.isnull().sum())"
      ],
      "metadata": {
        "colab": {
          "base_uri": "https://localhost:8080/"
        },
        "id": "x3dgw80Qb9-0",
        "outputId": "7d8686be-2fd2-4bb1-b5ce-f5d2f4aea174"
      },
      "execution_count": 263,
      "outputs": [
        {
          "output_type": "stream",
          "name": "stdout",
          "text": [
            "Unnamed: 0     0\n",
            "Description    0\n",
            "Label          0\n",
            "dtype: int64\n"
          ]
        }
      ]
    },
    {
      "cell_type": "markdown",
      "source": [
        "# Removing the Unnamed 0 or 1st column"
      ],
      "metadata": {
        "id": "Y0qJYsXMnwIZ"
      }
    },
    {
      "cell_type": "code",
      "source": [
        "dataframe = dataframe.drop(\"Unnamed: 0\", axis=1)\n",
        "dataframe.head(10)"
      ],
      "metadata": {
        "colab": {
          "base_uri": "https://localhost:8080/",
          "height": 363
        },
        "id": "Dq2E083an4xe",
        "outputId": "0238cbc5-92c2-49ba-f247-b9bcacc6fbf8"
      },
      "execution_count": 264,
      "outputs": [
        {
          "output_type": "execute_result",
          "data": {
            "text/plain": [
              "                                         Description   Label\n",
              "0  ওই হালার পুত এখন কি মদ খাওয়ার সময় রাতের বেলা...  sexual\n",
              "1  আপনার জন্ম প্রক্রিয়ার সময় আপনার মায়ের ভিতর কি ...  sexual\n",
              "2  ধজভংগ দের আর ভায়াগ্রা লাগবো না। ধংস হোক এই সব ...  sexual\n",
              "3                                     বোকাচোদা একটা।  sexual\n",
              "4  তোর দেশে ফেরার অপেক্ষায় রইলাম। জেলে একটা কামরা...  sexual\n",
              "5                          বাংলাদেশ ফেসবুক ইজ বিনোদন  sexual\n",
              "6  ক্ষমা করার মালিক উপরওয়ালা। উনি ক্ষমা করে দিলে ...  sexual\n",
              "7  আপনি ক্ষমা চেয়েছেন। এটাই বড় কথা।ক্ষমা করার মাল...  sexual\n",
              "8  নিজের রিভিউ বারানোর জন্যই জতো সব নাটক? ফালতু.....  sexual\n",
              "9  আপনাদের সকলের কাছে একটা বিষয়ে অনুরোধ-দয়াকরে এই...  sexual"
            ],
            "text/html": [
              "\n",
              "  <div id=\"df-e79353f4-a5b0-42ee-a316-a06ceacab9a3\" class=\"colab-df-container\">\n",
              "    <div>\n",
              "<style scoped>\n",
              "    .dataframe tbody tr th:only-of-type {\n",
              "        vertical-align: middle;\n",
              "    }\n",
              "\n",
              "    .dataframe tbody tr th {\n",
              "        vertical-align: top;\n",
              "    }\n",
              "\n",
              "    .dataframe thead th {\n",
              "        text-align: right;\n",
              "    }\n",
              "</style>\n",
              "<table border=\"1\" class=\"dataframe\">\n",
              "  <thead>\n",
              "    <tr style=\"text-align: right;\">\n",
              "      <th></th>\n",
              "      <th>Description</th>\n",
              "      <th>Label</th>\n",
              "    </tr>\n",
              "  </thead>\n",
              "  <tbody>\n",
              "    <tr>\n",
              "      <th>0</th>\n",
              "      <td>ওই হালার পুত এখন কি মদ খাওয়ার সময় রাতের বেলা...</td>\n",
              "      <td>sexual</td>\n",
              "    </tr>\n",
              "    <tr>\n",
              "      <th>1</th>\n",
              "      <td>আপনার জন্ম প্রক্রিয়ার সময় আপনার মায়ের ভিতর কি ...</td>\n",
              "      <td>sexual</td>\n",
              "    </tr>\n",
              "    <tr>\n",
              "      <th>2</th>\n",
              "      <td>ধজভংগ দের আর ভায়াগ্রা লাগবো না। ধংস হোক এই সব ...</td>\n",
              "      <td>sexual</td>\n",
              "    </tr>\n",
              "    <tr>\n",
              "      <th>3</th>\n",
              "      <td>বোকাচোদা একটা।</td>\n",
              "      <td>sexual</td>\n",
              "    </tr>\n",
              "    <tr>\n",
              "      <th>4</th>\n",
              "      <td>তোর দেশে ফেরার অপেক্ষায় রইলাম। জেলে একটা কামরা...</td>\n",
              "      <td>sexual</td>\n",
              "    </tr>\n",
              "    <tr>\n",
              "      <th>5</th>\n",
              "      <td>বাংলাদেশ ফেসবুক ইজ বিনোদন</td>\n",
              "      <td>sexual</td>\n",
              "    </tr>\n",
              "    <tr>\n",
              "      <th>6</th>\n",
              "      <td>ক্ষমা করার মালিক উপরওয়ালা। উনি ক্ষমা করে দিলে ...</td>\n",
              "      <td>sexual</td>\n",
              "    </tr>\n",
              "    <tr>\n",
              "      <th>7</th>\n",
              "      <td>আপনি ক্ষমা চেয়েছেন। এটাই বড় কথা।ক্ষমা করার মাল...</td>\n",
              "      <td>sexual</td>\n",
              "    </tr>\n",
              "    <tr>\n",
              "      <th>8</th>\n",
              "      <td>নিজের রিভিউ বারানোর জন্যই জতো সব নাটক? ফালতু.....</td>\n",
              "      <td>sexual</td>\n",
              "    </tr>\n",
              "    <tr>\n",
              "      <th>9</th>\n",
              "      <td>আপনাদের সকলের কাছে একটা বিষয়ে অনুরোধ-দয়াকরে এই...</td>\n",
              "      <td>sexual</td>\n",
              "    </tr>\n",
              "  </tbody>\n",
              "</table>\n",
              "</div>\n",
              "    <div class=\"colab-df-buttons\">\n",
              "\n",
              "  <div class=\"colab-df-container\">\n",
              "    <button class=\"colab-df-convert\" onclick=\"convertToInteractive('df-e79353f4-a5b0-42ee-a316-a06ceacab9a3')\"\n",
              "            title=\"Convert this dataframe to an interactive table.\"\n",
              "            style=\"display:none;\">\n",
              "\n",
              "  <svg xmlns=\"http://www.w3.org/2000/svg\" height=\"24px\" viewBox=\"0 -960 960 960\">\n",
              "    <path d=\"M120-120v-720h720v720H120Zm60-500h600v-160H180v160Zm220 220h160v-160H400v160Zm0 220h160v-160H400v160ZM180-400h160v-160H180v160Zm440 0h160v-160H620v160ZM180-180h160v-160H180v160Zm440 0h160v-160H620v160Z\"/>\n",
              "  </svg>\n",
              "    </button>\n",
              "\n",
              "  <style>\n",
              "    .colab-df-container {\n",
              "      display:flex;\n",
              "      gap: 12px;\n",
              "    }\n",
              "\n",
              "    .colab-df-convert {\n",
              "      background-color: #E8F0FE;\n",
              "      border: none;\n",
              "      border-radius: 50%;\n",
              "      cursor: pointer;\n",
              "      display: none;\n",
              "      fill: #1967D2;\n",
              "      height: 32px;\n",
              "      padding: 0 0 0 0;\n",
              "      width: 32px;\n",
              "    }\n",
              "\n",
              "    .colab-df-convert:hover {\n",
              "      background-color: #E2EBFA;\n",
              "      box-shadow: 0px 1px 2px rgba(60, 64, 67, 0.3), 0px 1px 3px 1px rgba(60, 64, 67, 0.15);\n",
              "      fill: #174EA6;\n",
              "    }\n",
              "\n",
              "    .colab-df-buttons div {\n",
              "      margin-bottom: 4px;\n",
              "    }\n",
              "\n",
              "    [theme=dark] .colab-df-convert {\n",
              "      background-color: #3B4455;\n",
              "      fill: #D2E3FC;\n",
              "    }\n",
              "\n",
              "    [theme=dark] .colab-df-convert:hover {\n",
              "      background-color: #434B5C;\n",
              "      box-shadow: 0px 1px 3px 1px rgba(0, 0, 0, 0.15);\n",
              "      filter: drop-shadow(0px 1px 2px rgba(0, 0, 0, 0.3));\n",
              "      fill: #FFFFFF;\n",
              "    }\n",
              "  </style>\n",
              "\n",
              "    <script>\n",
              "      const buttonEl =\n",
              "        document.querySelector('#df-e79353f4-a5b0-42ee-a316-a06ceacab9a3 button.colab-df-convert');\n",
              "      buttonEl.style.display =\n",
              "        google.colab.kernel.accessAllowed ? 'block' : 'none';\n",
              "\n",
              "      async function convertToInteractive(key) {\n",
              "        const element = document.querySelector('#df-e79353f4-a5b0-42ee-a316-a06ceacab9a3');\n",
              "        const dataTable =\n",
              "          await google.colab.kernel.invokeFunction('convertToInteractive',\n",
              "                                                    [key], {});\n",
              "        if (!dataTable) return;\n",
              "\n",
              "        const docLinkHtml = 'Like what you see? Visit the ' +\n",
              "          '<a target=\"_blank\" href=https://colab.research.google.com/notebooks/data_table.ipynb>data table notebook</a>'\n",
              "          + ' to learn more about interactive tables.';\n",
              "        element.innerHTML = '';\n",
              "        dataTable['output_type'] = 'display_data';\n",
              "        await google.colab.output.renderOutput(dataTable, element);\n",
              "        const docLink = document.createElement('div');\n",
              "        docLink.innerHTML = docLinkHtml;\n",
              "        element.appendChild(docLink);\n",
              "      }\n",
              "    </script>\n",
              "  </div>\n",
              "\n",
              "\n",
              "<div id=\"df-a40eb3b2-b204-4308-b33c-dba9fa4086e0\">\n",
              "  <button class=\"colab-df-quickchart\" onclick=\"quickchart('df-a40eb3b2-b204-4308-b33c-dba9fa4086e0')\"\n",
              "            title=\"Suggest charts\"\n",
              "            style=\"display:none;\">\n",
              "\n",
              "<svg xmlns=\"http://www.w3.org/2000/svg\" height=\"24px\"viewBox=\"0 0 24 24\"\n",
              "     width=\"24px\">\n",
              "    <g>\n",
              "        <path d=\"M19 3H5c-1.1 0-2 .9-2 2v14c0 1.1.9 2 2 2h14c1.1 0 2-.9 2-2V5c0-1.1-.9-2-2-2zM9 17H7v-7h2v7zm4 0h-2V7h2v10zm4 0h-2v-4h2v4z\"/>\n",
              "    </g>\n",
              "</svg>\n",
              "  </button>\n",
              "\n",
              "<style>\n",
              "  .colab-df-quickchart {\n",
              "      --bg-color: #E8F0FE;\n",
              "      --fill-color: #1967D2;\n",
              "      --hover-bg-color: #E2EBFA;\n",
              "      --hover-fill-color: #174EA6;\n",
              "      --disabled-fill-color: #AAA;\n",
              "      --disabled-bg-color: #DDD;\n",
              "  }\n",
              "\n",
              "  [theme=dark] .colab-df-quickchart {\n",
              "      --bg-color: #3B4455;\n",
              "      --fill-color: #D2E3FC;\n",
              "      --hover-bg-color: #434B5C;\n",
              "      --hover-fill-color: #FFFFFF;\n",
              "      --disabled-bg-color: #3B4455;\n",
              "      --disabled-fill-color: #666;\n",
              "  }\n",
              "\n",
              "  .colab-df-quickchart {\n",
              "    background-color: var(--bg-color);\n",
              "    border: none;\n",
              "    border-radius: 50%;\n",
              "    cursor: pointer;\n",
              "    display: none;\n",
              "    fill: var(--fill-color);\n",
              "    height: 32px;\n",
              "    padding: 0;\n",
              "    width: 32px;\n",
              "  }\n",
              "\n",
              "  .colab-df-quickchart:hover {\n",
              "    background-color: var(--hover-bg-color);\n",
              "    box-shadow: 0 1px 2px rgba(60, 64, 67, 0.3), 0 1px 3px 1px rgba(60, 64, 67, 0.15);\n",
              "    fill: var(--button-hover-fill-color);\n",
              "  }\n",
              "\n",
              "  .colab-df-quickchart-complete:disabled,\n",
              "  .colab-df-quickchart-complete:disabled:hover {\n",
              "    background-color: var(--disabled-bg-color);\n",
              "    fill: var(--disabled-fill-color);\n",
              "    box-shadow: none;\n",
              "  }\n",
              "\n",
              "  .colab-df-spinner {\n",
              "    border: 2px solid var(--fill-color);\n",
              "    border-color: transparent;\n",
              "    border-bottom-color: var(--fill-color);\n",
              "    animation:\n",
              "      spin 1s steps(1) infinite;\n",
              "  }\n",
              "\n",
              "  @keyframes spin {\n",
              "    0% {\n",
              "      border-color: transparent;\n",
              "      border-bottom-color: var(--fill-color);\n",
              "      border-left-color: var(--fill-color);\n",
              "    }\n",
              "    20% {\n",
              "      border-color: transparent;\n",
              "      border-left-color: var(--fill-color);\n",
              "      border-top-color: var(--fill-color);\n",
              "    }\n",
              "    30% {\n",
              "      border-color: transparent;\n",
              "      border-left-color: var(--fill-color);\n",
              "      border-top-color: var(--fill-color);\n",
              "      border-right-color: var(--fill-color);\n",
              "    }\n",
              "    40% {\n",
              "      border-color: transparent;\n",
              "      border-right-color: var(--fill-color);\n",
              "      border-top-color: var(--fill-color);\n",
              "    }\n",
              "    60% {\n",
              "      border-color: transparent;\n",
              "      border-right-color: var(--fill-color);\n",
              "    }\n",
              "    80% {\n",
              "      border-color: transparent;\n",
              "      border-right-color: var(--fill-color);\n",
              "      border-bottom-color: var(--fill-color);\n",
              "    }\n",
              "    90% {\n",
              "      border-color: transparent;\n",
              "      border-bottom-color: var(--fill-color);\n",
              "    }\n",
              "  }\n",
              "</style>\n",
              "\n",
              "  <script>\n",
              "    async function quickchart(key) {\n",
              "      const quickchartButtonEl =\n",
              "        document.querySelector('#' + key + ' button');\n",
              "      quickchartButtonEl.disabled = true;  // To prevent multiple clicks.\n",
              "      quickchartButtonEl.classList.add('colab-df-spinner');\n",
              "      try {\n",
              "        const charts = await google.colab.kernel.invokeFunction(\n",
              "            'suggestCharts', [key], {});\n",
              "      } catch (error) {\n",
              "        console.error('Error during call to suggestCharts:', error);\n",
              "      }\n",
              "      quickchartButtonEl.classList.remove('colab-df-spinner');\n",
              "      quickchartButtonEl.classList.add('colab-df-quickchart-complete');\n",
              "    }\n",
              "    (() => {\n",
              "      let quickchartButtonEl =\n",
              "        document.querySelector('#df-a40eb3b2-b204-4308-b33c-dba9fa4086e0 button');\n",
              "      quickchartButtonEl.style.display =\n",
              "        google.colab.kernel.accessAllowed ? 'block' : 'none';\n",
              "    })();\n",
              "  </script>\n",
              "</div>\n",
              "\n",
              "    </div>\n",
              "  </div>\n"
            ]
          },
          "metadata": {},
          "execution_count": 264
        }
      ]
    },
    {
      "cell_type": "code",
      "source": [
        "print(dataframe['Label'].isnull().sum())"
      ],
      "metadata": {
        "colab": {
          "base_uri": "https://localhost:8080/"
        },
        "id": "adqgtXL4owSB",
        "outputId": "a55f386f-999d-4b50-b330-099c435ff9af"
      },
      "execution_count": 265,
      "outputs": [
        {
          "output_type": "stream",
          "name": "stdout",
          "text": [
            "0\n"
          ]
        }
      ]
    },
    {
      "cell_type": "markdown",
      "source": [
        "# Converting Label classes to numerical value"
      ],
      "metadata": {
        "id": "J2m46d3GnX6i"
      }
    },
    {
      "cell_type": "code",
      "source": [
        "label_mapping = {'sexual': 0, 'Neutral': 1, 'Political': 2, 'troll': 3, 'Threat': 4}\n",
        "dataframe['Label'] = dataframe['Label'].map(label_mapping).astype(int)\n",
        "\n",
        "class_names = [label for label, _ in sorted(label_mapping.items(), key=lambda x: x[1])]"
      ],
      "metadata": {
        "id": "ecL1hja5jk8Z"
      },
      "execution_count": 266,
      "outputs": []
    },
    {
      "cell_type": "code",
      "source": [
        "dataframe.head()"
      ],
      "metadata": {
        "id": "kr-ZI2czj0A7",
        "colab": {
          "base_uri": "https://localhost:8080/",
          "height": 206
        },
        "outputId": "366c32d1-730b-4770-ca42-0ae9fcb6a385"
      },
      "execution_count": 267,
      "outputs": [
        {
          "output_type": "execute_result",
          "data": {
            "text/plain": [
              "                                         Description  Label\n",
              "0  ওই হালার পুত এখন কি মদ খাওয়ার সময় রাতের বেলা...      0\n",
              "1  আপনার জন্ম প্রক্রিয়ার সময় আপনার মায়ের ভিতর কি ...      0\n",
              "2  ধজভংগ দের আর ভায়াগ্রা লাগবো না। ধংস হোক এই সব ...      0\n",
              "3                                     বোকাচোদা একটা।      0\n",
              "4  তোর দেশে ফেরার অপেক্ষায় রইলাম। জেলে একটা কামরা...      0"
            ],
            "text/html": [
              "\n",
              "  <div id=\"df-c594e91d-c921-4e0b-a354-d0c9ed755ea1\" class=\"colab-df-container\">\n",
              "    <div>\n",
              "<style scoped>\n",
              "    .dataframe tbody tr th:only-of-type {\n",
              "        vertical-align: middle;\n",
              "    }\n",
              "\n",
              "    .dataframe tbody tr th {\n",
              "        vertical-align: top;\n",
              "    }\n",
              "\n",
              "    .dataframe thead th {\n",
              "        text-align: right;\n",
              "    }\n",
              "</style>\n",
              "<table border=\"1\" class=\"dataframe\">\n",
              "  <thead>\n",
              "    <tr style=\"text-align: right;\">\n",
              "      <th></th>\n",
              "      <th>Description</th>\n",
              "      <th>Label</th>\n",
              "    </tr>\n",
              "  </thead>\n",
              "  <tbody>\n",
              "    <tr>\n",
              "      <th>0</th>\n",
              "      <td>ওই হালার পুত এখন কি মদ খাওয়ার সময় রাতের বেলা...</td>\n",
              "      <td>0</td>\n",
              "    </tr>\n",
              "    <tr>\n",
              "      <th>1</th>\n",
              "      <td>আপনার জন্ম প্রক্রিয়ার সময় আপনার মায়ের ভিতর কি ...</td>\n",
              "      <td>0</td>\n",
              "    </tr>\n",
              "    <tr>\n",
              "      <th>2</th>\n",
              "      <td>ধজভংগ দের আর ভায়াগ্রা লাগবো না। ধংস হোক এই সব ...</td>\n",
              "      <td>0</td>\n",
              "    </tr>\n",
              "    <tr>\n",
              "      <th>3</th>\n",
              "      <td>বোকাচোদা একটা।</td>\n",
              "      <td>0</td>\n",
              "    </tr>\n",
              "    <tr>\n",
              "      <th>4</th>\n",
              "      <td>তোর দেশে ফেরার অপেক্ষায় রইলাম। জেলে একটা কামরা...</td>\n",
              "      <td>0</td>\n",
              "    </tr>\n",
              "  </tbody>\n",
              "</table>\n",
              "</div>\n",
              "    <div class=\"colab-df-buttons\">\n",
              "\n",
              "  <div class=\"colab-df-container\">\n",
              "    <button class=\"colab-df-convert\" onclick=\"convertToInteractive('df-c594e91d-c921-4e0b-a354-d0c9ed755ea1')\"\n",
              "            title=\"Convert this dataframe to an interactive table.\"\n",
              "            style=\"display:none;\">\n",
              "\n",
              "  <svg xmlns=\"http://www.w3.org/2000/svg\" height=\"24px\" viewBox=\"0 -960 960 960\">\n",
              "    <path d=\"M120-120v-720h720v720H120Zm60-500h600v-160H180v160Zm220 220h160v-160H400v160Zm0 220h160v-160H400v160ZM180-400h160v-160H180v160Zm440 0h160v-160H620v160ZM180-180h160v-160H180v160Zm440 0h160v-160H620v160Z\"/>\n",
              "  </svg>\n",
              "    </button>\n",
              "\n",
              "  <style>\n",
              "    .colab-df-container {\n",
              "      display:flex;\n",
              "      gap: 12px;\n",
              "    }\n",
              "\n",
              "    .colab-df-convert {\n",
              "      background-color: #E8F0FE;\n",
              "      border: none;\n",
              "      border-radius: 50%;\n",
              "      cursor: pointer;\n",
              "      display: none;\n",
              "      fill: #1967D2;\n",
              "      height: 32px;\n",
              "      padding: 0 0 0 0;\n",
              "      width: 32px;\n",
              "    }\n",
              "\n",
              "    .colab-df-convert:hover {\n",
              "      background-color: #E2EBFA;\n",
              "      box-shadow: 0px 1px 2px rgba(60, 64, 67, 0.3), 0px 1px 3px 1px rgba(60, 64, 67, 0.15);\n",
              "      fill: #174EA6;\n",
              "    }\n",
              "\n",
              "    .colab-df-buttons div {\n",
              "      margin-bottom: 4px;\n",
              "    }\n",
              "\n",
              "    [theme=dark] .colab-df-convert {\n",
              "      background-color: #3B4455;\n",
              "      fill: #D2E3FC;\n",
              "    }\n",
              "\n",
              "    [theme=dark] .colab-df-convert:hover {\n",
              "      background-color: #434B5C;\n",
              "      box-shadow: 0px 1px 3px 1px rgba(0, 0, 0, 0.15);\n",
              "      filter: drop-shadow(0px 1px 2px rgba(0, 0, 0, 0.3));\n",
              "      fill: #FFFFFF;\n",
              "    }\n",
              "  </style>\n",
              "\n",
              "    <script>\n",
              "      const buttonEl =\n",
              "        document.querySelector('#df-c594e91d-c921-4e0b-a354-d0c9ed755ea1 button.colab-df-convert');\n",
              "      buttonEl.style.display =\n",
              "        google.colab.kernel.accessAllowed ? 'block' : 'none';\n",
              "\n",
              "      async function convertToInteractive(key) {\n",
              "        const element = document.querySelector('#df-c594e91d-c921-4e0b-a354-d0c9ed755ea1');\n",
              "        const dataTable =\n",
              "          await google.colab.kernel.invokeFunction('convertToInteractive',\n",
              "                                                    [key], {});\n",
              "        if (!dataTable) return;\n",
              "\n",
              "        const docLinkHtml = 'Like what you see? Visit the ' +\n",
              "          '<a target=\"_blank\" href=https://colab.research.google.com/notebooks/data_table.ipynb>data table notebook</a>'\n",
              "          + ' to learn more about interactive tables.';\n",
              "        element.innerHTML = '';\n",
              "        dataTable['output_type'] = 'display_data';\n",
              "        await google.colab.output.renderOutput(dataTable, element);\n",
              "        const docLink = document.createElement('div');\n",
              "        docLink.innerHTML = docLinkHtml;\n",
              "        element.appendChild(docLink);\n",
              "      }\n",
              "    </script>\n",
              "  </div>\n",
              "\n",
              "\n",
              "<div id=\"df-474ac2fc-f2e0-4492-8bca-0eac68cde8c4\">\n",
              "  <button class=\"colab-df-quickchart\" onclick=\"quickchart('df-474ac2fc-f2e0-4492-8bca-0eac68cde8c4')\"\n",
              "            title=\"Suggest charts\"\n",
              "            style=\"display:none;\">\n",
              "\n",
              "<svg xmlns=\"http://www.w3.org/2000/svg\" height=\"24px\"viewBox=\"0 0 24 24\"\n",
              "     width=\"24px\">\n",
              "    <g>\n",
              "        <path d=\"M19 3H5c-1.1 0-2 .9-2 2v14c0 1.1.9 2 2 2h14c1.1 0 2-.9 2-2V5c0-1.1-.9-2-2-2zM9 17H7v-7h2v7zm4 0h-2V7h2v10zm4 0h-2v-4h2v4z\"/>\n",
              "    </g>\n",
              "</svg>\n",
              "  </button>\n",
              "\n",
              "<style>\n",
              "  .colab-df-quickchart {\n",
              "      --bg-color: #E8F0FE;\n",
              "      --fill-color: #1967D2;\n",
              "      --hover-bg-color: #E2EBFA;\n",
              "      --hover-fill-color: #174EA6;\n",
              "      --disabled-fill-color: #AAA;\n",
              "      --disabled-bg-color: #DDD;\n",
              "  }\n",
              "\n",
              "  [theme=dark] .colab-df-quickchart {\n",
              "      --bg-color: #3B4455;\n",
              "      --fill-color: #D2E3FC;\n",
              "      --hover-bg-color: #434B5C;\n",
              "      --hover-fill-color: #FFFFFF;\n",
              "      --disabled-bg-color: #3B4455;\n",
              "      --disabled-fill-color: #666;\n",
              "  }\n",
              "\n",
              "  .colab-df-quickchart {\n",
              "    background-color: var(--bg-color);\n",
              "    border: none;\n",
              "    border-radius: 50%;\n",
              "    cursor: pointer;\n",
              "    display: none;\n",
              "    fill: var(--fill-color);\n",
              "    height: 32px;\n",
              "    padding: 0;\n",
              "    width: 32px;\n",
              "  }\n",
              "\n",
              "  .colab-df-quickchart:hover {\n",
              "    background-color: var(--hover-bg-color);\n",
              "    box-shadow: 0 1px 2px rgba(60, 64, 67, 0.3), 0 1px 3px 1px rgba(60, 64, 67, 0.15);\n",
              "    fill: var(--button-hover-fill-color);\n",
              "  }\n",
              "\n",
              "  .colab-df-quickchart-complete:disabled,\n",
              "  .colab-df-quickchart-complete:disabled:hover {\n",
              "    background-color: var(--disabled-bg-color);\n",
              "    fill: var(--disabled-fill-color);\n",
              "    box-shadow: none;\n",
              "  }\n",
              "\n",
              "  .colab-df-spinner {\n",
              "    border: 2px solid var(--fill-color);\n",
              "    border-color: transparent;\n",
              "    border-bottom-color: var(--fill-color);\n",
              "    animation:\n",
              "      spin 1s steps(1) infinite;\n",
              "  }\n",
              "\n",
              "  @keyframes spin {\n",
              "    0% {\n",
              "      border-color: transparent;\n",
              "      border-bottom-color: var(--fill-color);\n",
              "      border-left-color: var(--fill-color);\n",
              "    }\n",
              "    20% {\n",
              "      border-color: transparent;\n",
              "      border-left-color: var(--fill-color);\n",
              "      border-top-color: var(--fill-color);\n",
              "    }\n",
              "    30% {\n",
              "      border-color: transparent;\n",
              "      border-left-color: var(--fill-color);\n",
              "      border-top-color: var(--fill-color);\n",
              "      border-right-color: var(--fill-color);\n",
              "    }\n",
              "    40% {\n",
              "      border-color: transparent;\n",
              "      border-right-color: var(--fill-color);\n",
              "      border-top-color: var(--fill-color);\n",
              "    }\n",
              "    60% {\n",
              "      border-color: transparent;\n",
              "      border-right-color: var(--fill-color);\n",
              "    }\n",
              "    80% {\n",
              "      border-color: transparent;\n",
              "      border-right-color: var(--fill-color);\n",
              "      border-bottom-color: var(--fill-color);\n",
              "    }\n",
              "    90% {\n",
              "      border-color: transparent;\n",
              "      border-bottom-color: var(--fill-color);\n",
              "    }\n",
              "  }\n",
              "</style>\n",
              "\n",
              "  <script>\n",
              "    async function quickchart(key) {\n",
              "      const quickchartButtonEl =\n",
              "        document.querySelector('#' + key + ' button');\n",
              "      quickchartButtonEl.disabled = true;  // To prevent multiple clicks.\n",
              "      quickchartButtonEl.classList.add('colab-df-spinner');\n",
              "      try {\n",
              "        const charts = await google.colab.kernel.invokeFunction(\n",
              "            'suggestCharts', [key], {});\n",
              "      } catch (error) {\n",
              "        console.error('Error during call to suggestCharts:', error);\n",
              "      }\n",
              "      quickchartButtonEl.classList.remove('colab-df-spinner');\n",
              "      quickchartButtonEl.classList.add('colab-df-quickchart-complete');\n",
              "    }\n",
              "    (() => {\n",
              "      let quickchartButtonEl =\n",
              "        document.querySelector('#df-474ac2fc-f2e0-4492-8bca-0eac68cde8c4 button');\n",
              "      quickchartButtonEl.style.display =\n",
              "        google.colab.kernel.accessAllowed ? 'block' : 'none';\n",
              "    })();\n",
              "  </script>\n",
              "</div>\n",
              "\n",
              "    </div>\n",
              "  </div>\n"
            ]
          },
          "metadata": {},
          "execution_count": 267
        }
      ]
    },
    {
      "cell_type": "code",
      "source": [
        "dataframe['Text_Length'] = dataframe['Description'].str.len()\n",
        "dataframe.hist(column='Text_Length', bins=20, edgecolor='black')\n",
        "plt.xlabel('Text Length (characters)')\n",
        "plt.ylabel('Frequency')\n",
        "plt.title('Distribution of Text Lengths')\n",
        "plt.show()"
      ],
      "metadata": {
        "colab": {
          "base_uri": "https://localhost:8080/",
          "height": 472
        },
        "id": "-VL5KqaHnsDA",
        "outputId": "50328440-5ff5-4e0a-deda-fc351d7b4fd0"
      },
      "execution_count": 268,
      "outputs": [
        {
          "output_type": "display_data",
          "data": {
            "text/plain": [
              "<Figure size 640x480 with 1 Axes>"
            ],
            "image/png": "[encoded data removed]"
          },
          "metadata": {}
        }
      ]
    },
    {
      "cell_type": "markdown",
      "source": [
        "# Dataset Cleaning\n",
        "\n",
        "Cleaning the dataset by removing non-bengali characters."
      ],
      "metadata": {
        "id": "Je9p70SSEI85"
      }
    },
    {
      "cell_type": "code",
      "source": [
        "import re\n",
        "\n",
        "def clean_text(text):\n",
        "    cleaned_text = re.sub(r'[^\\u0980-\\u09FF\\s]', '', text)\n",
        "    return cleaned_text"
      ],
      "metadata": {
        "id": "ZAC9yUng1Dp_"
      },
      "execution_count": 269,
      "outputs": []
    },
    {
      "cell_type": "code",
      "source": [
        "dataframe[\"Description_\"] = dataframe[\"Description\"].apply(clean_text)"
      ],
      "metadata": {
        "id": "DaOaV8h01P2i"
      },
      "execution_count": 270,
      "outputs": []
    },
    {
      "cell_type": "markdown",
      "source": [
        "# Checking cleaned text"
      ],
      "metadata": {
        "id": "t6AIiufiFHJM"
      }
    },
    {
      "cell_type": "code",
      "source": [
        "import random\n",
        "\n",
        "sample_size = 10\n",
        "random_indices = random.sample(range(len(dataframe)), sample_size)\n",
        "\n",
        "for idx in random_indices:\n",
        "    original_text = dataframe.loc[idx, 'Description']\n",
        "    cleaned_text = dataframe.loc[idx, 'Description_']\n",
        "\n",
        "    print(f\"Original Text: {original_text}\")\n",
        "    print(f\"Cleaned Text:  {cleaned_text}\")\n",
        "    print(\"--*--\" * 10)"
      ],
      "metadata": {
        "colab": {
          "base_uri": "https://localhost:8080/"
        },
        "id": "oOQNhoY0E0xI",
        "outputId": "46b714b9-8639-4d14-8112-b07566866dcd"
      },
      "execution_count": 271,
      "outputs": [
        {
          "output_type": "stream",
          "name": "stdout",
          "text": [
            "Original Text: মুক্তি চাই ।\n",
            "Cleaned Text:  মুক্তি চাই \n",
            "--*----*----*----*----*----*----*----*----*----*--\n",
            "Original Text: সুন্দর হয়ছে\n",
            "Cleaned Text:  সুন্দর হয়ছে\n",
            "--*----*----*----*----*----*----*----*----*----*--\n",
            "Original Text: জুতা কবির তুই নাস্তিক\n",
            "Cleaned Text:  জুতা কবির তুই নাস্তিক\n",
            "--*----*----*----*----*----*----*----*----*----*--\n",
            "Original Text: হেতেরে দেহার পর মনটা কইতাছি এমন করি।\n",
            "Cleaned Text:  হেতেরে দেহার পর মনটা কইতাছি এমন করি\n",
            "--*----*----*----*----*----*----*----*----*----*--\n",
            "Original Text: তাই নাকি । বাংলাদেশ এখন সকল জায়গায় ভাল খেলার যোগ্যতা রাখে সেটা ভারত কিংবা অস্ট্রেলিয়ার মত দেশেও । এটা তারা ইংলেন্ডই প্রমান করেছে।\n",
            "Cleaned Text:  তাই নাকি  বাংলাদেশ এখন সকল জায়গায় ভাল খেলার যোগ্যতা রাখে সেটা ভারত কিংবা অস্ট্রেলিয়ার মত দেশেও  এটা তারা ইংলেন্ডই প্রমান করেছে\n",
            "--*----*----*----*----*----*----*----*----*----*--\n",
            "Original Text: খানকিরে দেখানো উচিৎ বাংলাদেশে সব ধর্মের লোক কতটা মিলেমিশে আছে।\n",
            "Cleaned Text:  খানকিরে দেখানো উচিৎ বাংলাদেশে সব ধর্মের লোক কতটা মিলেমিশে আছে\n",
            "--*----*----*----*----*----*----*----*----*----*--\n",
            "Original Text: ইনশাআল্লাহ হুজুর অপেক্ষায় আছি\n",
            "Cleaned Text:  ইনশাআল্লাহ হুজুর অপেক্ষায় আছি\n",
            "--*----*----*----*----*----*----*----*----*----*--\n",
            "Original Text: তুমি লিখে যা ও বোন কত্ত রেফারেন্স লাগবে ইনবক্সে আসলে পাবে খানকীর জারজ রাজাকার দের গুস্টি সাফ চলে চলবে বুইড়া ইবলিস গুলা ঝুলেছে আর নব্য ইবলিশ গুলি ঝুলবে না ডাাইরেক্ট শ্যুট ট্রিগার ভরবো পাছায় চাপ দিবা মাথা ছিটকে পড়বে কুত্তাদের ভুরিভোজ এর আয়জোন রেডি হচ্চে ভাবনা বা ভয়ের কিছুই নাই বোন\n",
            "Cleaned Text:  তুমি লিখে যা ও বোন কত্ত রেফারেন্স লাগবে ইনবক্সে আসলে পাবে খানকীর জারজ রাজাকার দের গুস্টি সাফ চলে চলবে বুইড়া ইবলিস গুলা ঝুলেছে আর নব্য ইবলিশ গুলি ঝুলবে না ডাাইরেক্ট শ্যুট ট্রিগার ভরবো পাছায় চাপ দিবা মাথা ছিটকে পড়বে কুত্তাদের ভুরিভোজ এর আয়জোন রেডি হচ্চে ভাবনা বা ভয়ের কিছুই নাই বোন\n",
            "--*----*----*----*----*----*----*----*----*----*--\n",
            "Original Text: নিউজে দেখলাম আপনার কাকড়া প্রতিষ্ঠানে কর্মরত শ্রমিকদের ৪ মাসের বেতন দিচ্ছেন না। এর কারন কি এবং বেতন কবে দিবেন?\n",
            "Cleaned Text:  নিউজে দেখলাম আপনার কাকড়া প্রতিষ্ঠানে কর্মরত শ্রমিকদের ৪ মাসের বেতন দিচ্ছেন না এর কারন কি এবং বেতন কবে দিবেন\n",
            "--*----*----*----*----*----*----*----*----*----*--\n",
            "Original Text: বাস্তবতা মাননীয় প্রধানমন্ত্রীর টেবিলে থাকলে আমাদের আস্থা বাড়ে।\n",
            "Cleaned Text:  বাস্তবতা মাননীয় প্রধানমন্ত্রীর টেবিলে থাকলে আমাদের আস্থা বাড়ে\n",
            "--*----*----*----*----*----*----*----*----*----*--\n"
          ]
        }
      ]
    },
    {
      "cell_type": "code",
      "source": [
        "tokenizer = BasicTokenizer()\n",
        "test_text=\"চুলকাইতে মন চাইলে জাগা মত চুলকান পারলে ভারতের চ্যানেল গুলা বন্দ করেন নিজেদের ব্যার্থতা অন্যের উপর চাপিয়ে দিতে খুব ভাল লাগে\"\n",
        "test_token = tokenizer(test_text)\n",
        "print(test_token)"
      ],
      "metadata": {
        "colab": {
          "base_uri": "https://localhost:8080/"
        },
        "id": "uduzPYlmGq3-",
        "outputId": "7c73c38f-e81f-4386-cac2-21a9fcec8e01"
      },
      "execution_count": 272,
      "outputs": [
        {
          "output_type": "stream",
          "name": "stdout",
          "text": [
            "['চুলকাইতে', 'মন', 'চাইলে', 'জাগা', 'মত', 'চুলকান', 'পারলে', 'ভারতের', 'চ্যানেল', 'গুলা', 'বন্দ', 'করেন', 'নিজেদের', 'ব্যার্থতা', 'অন্যের', 'উপর', 'চাপিয়ে', 'দিতে', 'খুব', 'ভাল', 'লাগে']\n"
          ]
        }
      ]
    },
    {
      "cell_type": "code",
      "source": [
        "tokens = dataframe['Description_'].apply(lambda x: tokenizer(x))"
      ],
      "metadata": {
        "id": "hPkYXRZxHMqA"
      },
      "execution_count": 273,
      "outputs": []
    },
    {
      "cell_type": "markdown",
      "source": [
        "# Binary & Multi Classification"
      ],
      "metadata": {
        "id": "FYbNpUg4Jtha"
      }
    },
    {
      "cell_type": "code",
      "source": [
        "X_bin = dataframe[\"Description_\"]\n",
        "y_bin = dataframe[\"Label\"].apply(lambda x: 1 if x == 0 else 0)\n",
        "\n",
        "X_multi = dataframe[\"Description_\"]\n",
        "y_multi = dataframe[\"Label\"]\n",
        "\n",
        "X_train_bin, X_test_bin, y_train_bin, y_test_bin = train_test_split(X_bin, y_bin, test_size=0.2, random_state=42)\n",
        "X_train_multi, X_test_multi, y_train_multi, y_test_multi = train_test_split(X_multi, y_multi, test_size=0.2, random_state=42)"
      ],
      "metadata": {
        "id": "XvyuVPKfH0NT"
      },
      "execution_count": 274,
      "outputs": []
    },
    {
      "cell_type": "code",
      "source": [
        "max_words = 10000\n",
        "max_len = 100\n",
        "\n",
        "tokenizer = Tokenizer(num_words=max_words, oov_token='<OOV>')\n",
        "tokenizer.fit_on_texts(X_train_bin)\n",
        "\n",
        "X_train_bin_seq = tokenizer.texts_to_sequences(X_train_bin)\n",
        "X_test_bin_seq = tokenizer.texts_to_sequences(X_test_bin)\n",
        "\n",
        "X_train_multi_seq = tokenizer.texts_to_sequences(X_train_multi)\n",
        "X_test_multi_seq = tokenizer.texts_to_sequences(X_test_multi)\n",
        "\n",
        "X_train_bin_pad = pad_sequences(X_train_bin_seq, maxlen=max_len, truncating='post')\n",
        "X_test_bin_pad = pad_sequences(X_test_bin_seq, maxlen=max_len, truncating='post')\n",
        "\n",
        "X_train_multi_pad = pad_sequences(X_train_multi_seq, maxlen=max_len, truncating='post')\n",
        "X_test_multi_pad = pad_sequences(X_test_multi_seq, maxlen=max_len, truncating='post')"
      ],
      "metadata": {
        "id": "cTxDR9wMLzhL"
      },
      "execution_count": 275,
      "outputs": []
    },
    {
      "cell_type": "code",
      "source": [
        "X_train_bin_tensor = torch.tensor(X_train_bin_pad, dtype=torch.long)\n",
        "y_train_bin_tensor = torch.tensor(y_train_bin, dtype=torch.float32)\n",
        "X_test_bin_tensor = torch.tensor(X_test_bin_pad, dtype=torch.long)\n",
        "y_test_bin_tensor = torch.tensor(np.array(y_test_bin), dtype=torch.float32)\n",
        "\n",
        "X_train_multi_tensor = torch.tensor(X_train_multi_pad, dtype=torch.long)\n",
        "y_train_multi_tensor = torch.tensor(y_train_multi, dtype=torch.long)\n",
        "X_test_multi_tensor = torch.tensor(X_test_multi_pad, dtype=torch.long)\n",
        "y_test_multi_tensor = torch.tensor(np.array(y_test_multi), dtype=torch.long)\n",
        "\n",
        "train_bin_data = TensorDataset(X_train_bin_tensor, y_train_bin_tensor)\n",
        "test_bin_data = TensorDataset(X_test_bin_tensor, y_test_bin_tensor)\n",
        "train_bin_loader = DataLoader(train_bin_data, batch_size=64, shuffle=True)\n",
        "test_bin_loader = DataLoader(test_bin_data, batch_size=64, shuffle=False)\n",
        "\n",
        "train_multi_data = TensorDataset(X_train_multi_tensor, y_train_multi_tensor)\n",
        "test_multi_data = TensorDataset(X_test_multi_tensor, y_test_multi_tensor)\n",
        "train_multi_loader = DataLoader(train_multi_data, batch_size=64, shuffle=True)\n",
        "test_multi_loader = DataLoader(test_multi_data, batch_size=64, shuffle=False)\n"
      ],
      "metadata": {
        "id": "hDMP6CcuH3Mq"
      },
      "execution_count": 276,
      "outputs": []
    },
    {
      "cell_type": "markdown",
      "source": [
        "# LSTM MODEL"
      ],
      "metadata": {
        "id": "U0K4pwlff1-5"
      }
    },
    {
      "cell_type": "code",
      "source": [
        "class LSTMModel(nn.Module):\n",
        "    def __init__(self, vocab_size, embedding_dim, hidden_dim, output_dim):\n",
        "        super(LSTMModel, self).__init__()\n",
        "        self.embedding = nn.Embedding(vocab_size, embedding_dim)\n",
        "        self.lstm = nn.LSTM(embedding_dim, hidden_dim, batch_first=True)\n",
        "        self.fc = nn.Linear(hidden_dim, output_dim)\n",
        "\n",
        "    def forward(self, x):\n",
        "        embedded = self.embedding(x)\n",
        "        lstm_out, _ = self.lstm(embedded)\n",
        "        output = self.fc(lstm_out[:, -1, :])\n",
        "        return output"
      ],
      "metadata": {
        "id": "jynDePT4SfN9"
      },
      "execution_count": 277,
      "outputs": []
    },
    {
      "cell_type": "code",
      "source": [
        "vocab_size = 10000\n",
        "embedding_dim = 50\n",
        "hidden_dim = 50\n",
        "output_dim_bin = 1\n",
        "output_dim_multi = 5\n",
        "\n",
        "lstm_model_bin = LSTMModel(vocab_size, embedding_dim, hidden_dim, output_dim_bin)\n",
        "lstm_model_multi = LSTMModel(vocab_size, embedding_dim, hidden_dim, output_dim_multi)\n",
        "\n",
        "criterion_bin = nn.BCEWithLogitsLoss()\n",
        "criterion_multi = nn.CrossEntropyLoss()\n",
        "\n",
        "optimizer_bin = optim.Adam(lstm_model_bin.parameters(), lr=0.001)\n",
        "optimizer_multi = optim.Adam(lstm_model_multi.parameters(), lr=0.001)\n",
        "\n",
        "num_epochs = 5\n",
        "\n",
        "for epoch in range(num_epochs):\n",
        "    lstm_model_bin.train()\n",
        "    for inputs, labels in tqdm(train_bin_loader, desc=f'Epoch {epoch + 1}/Binary Train'):\n",
        "        optimizer_bin.zero_grad()\n",
        "        outputs = lstm_model_bin(inputs)\n",
        "        loss = criterion_bin(outputs.squeeze(), labels)\n",
        "        loss.backward()\n",
        "        optimizer_bin.step()\n",
        "\n",
        "    lstm_model_bin.eval()\n",
        "    with torch.no_grad():\n",
        "        all_preds_bin = []\n",
        "        all_labels_bin = []\n",
        "        for inputs, labels in tqdm(test_bin_loader, desc=f'Epoch {epoch + 1}/Binary Test'):\n",
        "            outputs = lstm_model_bin(inputs)\n",
        "            preds = torch.sigmoid(outputs.squeeze())\n",
        "            all_preds_bin.extend(preds.tolist())\n",
        "            all_labels_bin.extend(labels.tolist())\n",
        "\n",
        "        accuracy = accuracy_score(all_labels_bin, [1 if p >= 0.5 else 0 for p in all_preds_bin])\n",
        "        print(f'Epoch {epoch + 1}, Binary Accuracy: {accuracy * 100:.2f}%')\n",
        "\n",
        "num_epochs = 5\n",
        "\n",
        "for epoch in range(num_epochs):\n",
        "    lstm_model_multi.train()\n",
        "    for inputs, labels in tqdm(train_multi_loader, desc=f'Epoch {epoch + 1}/Multiclass Train'):\n",
        "        optimizer_multi.zero_grad()\n",
        "        outputs = lstm_model_multi(inputs)\n",
        "        loss = criterion_multi(outputs, labels)\n",
        "        loss.backward()\n",
        "        optimizer_multi.step()\n",
        "\n",
        "    lstm_model_multi.eval()\n",
        "    with torch.no_grad():\n",
        "        all_preds = []\n",
        "        all_labels = []\n",
        "        for inputs, labels in tqdm(test_multi_loader, desc=f'Epoch {epoch + 1}/Multiclass Test'):\n",
        "            outputs = lstm_model_multi(inputs)\n",
        "            _, preds = torch.max(outputs, 1)\n",
        "            all_preds.extend(preds.tolist())\n",
        "            all_labels.extend(labels.tolist())\n",
        "\n",
        "        accuracy = accuracy_score(all_labels, all_preds)\n",
        "        print(f'Epoch {epoch + 1}, Multiclass Accuracy: {accuracy * 100:.2f}%')\n"
      ],
      "metadata": {
        "colab": {
          "base_uri": "https://localhost:8080/"
        },
        "id": "Qy78fMWefuIX",
        "outputId": "cd2a258e-98cd-4bdf-b671-e3da951e7f6b"
      },
      "execution_count": 278,
      "outputs": [
        {
          "output_type": "stream",
          "name": "stderr",
          "text": [
            "Epoch 1/Binary Train: 100%|██████████| 76/76 [00:04<00:00, 16.78it/s]\n",
            "Epoch 1/Binary Test: 100%|██████████| 19/19 [00:00<00:00, 24.54it/s]\n"
          ]
        },
        {
          "output_type": "stream",
          "name": "stdout",
          "text": [
            "Epoch 1, Binary Accuracy: 77.62%\n"
          ]
        },
        {
          "output_type": "stream",
          "name": "stderr",
          "text": [
            "Epoch 2/Binary Train: 100%|██████████| 76/76 [00:08<00:00,  8.53it/s]\n",
            "Epoch 2/Binary Test: 100%|██████████| 19/19 [00:00<00:00, 29.31it/s]\n"
          ]
        },
        {
          "output_type": "stream",
          "name": "stdout",
          "text": [
            "Epoch 2, Binary Accuracy: 77.79%\n"
          ]
        },
        {
          "output_type": "stream",
          "name": "stderr",
          "text": [
            "Epoch 3/Binary Train: 100%|██████████| 76/76 [00:06<00:00, 11.07it/s]\n",
            "Epoch 3/Binary Test: 100%|██████████| 19/19 [00:00<00:00, 28.47it/s]\n"
          ]
        },
        {
          "output_type": "stream",
          "name": "stdout",
          "text": [
            "Epoch 3, Binary Accuracy: 78.45%\n"
          ]
        },
        {
          "output_type": "stream",
          "name": "stderr",
          "text": [
            "Epoch 4/Binary Train: 100%|██████████| 76/76 [00:10<00:00,  7.18it/s]\n",
            "Epoch 4/Binary Test: 100%|██████████| 19/19 [00:00<00:00, 28.03it/s]\n"
          ]
        },
        {
          "output_type": "stream",
          "name": "stdout",
          "text": [
            "Epoch 4, Binary Accuracy: 79.03%\n"
          ]
        },
        {
          "output_type": "stream",
          "name": "stderr",
          "text": [
            "Epoch 5/Binary Train: 100%|██████████| 76/76 [00:04<00:00, 17.95it/s]\n",
            "Epoch 5/Binary Test: 100%|██████████| 19/19 [00:00<00:00, 48.85it/s]\n"
          ]
        },
        {
          "output_type": "stream",
          "name": "stdout",
          "text": [
            "Epoch 5, Binary Accuracy: 79.95%\n"
          ]
        },
        {
          "output_type": "stream",
          "name": "stderr",
          "text": [
            "Epoch 1/Multiclass Train: 100%|██████████| 76/76 [00:04<00:00, 15.57it/s]\n",
            "Epoch 1/Multiclass Test: 100%|██████████| 19/19 [00:00<00:00, 49.04it/s]\n"
          ]
        },
        {
          "output_type": "stream",
          "name": "stdout",
          "text": [
            "Epoch 1, Multiclass Accuracy: 31.78%\n"
          ]
        },
        {
          "output_type": "stream",
          "name": "stderr",
          "text": [
            "Epoch 2/Multiclass Train: 100%|██████████| 76/76 [00:03<00:00, 20.08it/s]\n",
            "Epoch 2/Multiclass Test: 100%|██████████| 19/19 [00:00<00:00, 49.14it/s]\n"
          ]
        },
        {
          "output_type": "stream",
          "name": "stdout",
          "text": [
            "Epoch 2, Multiclass Accuracy: 37.69%\n"
          ]
        },
        {
          "output_type": "stream",
          "name": "stderr",
          "text": [
            "Epoch 3/Multiclass Train: 100%|██████████| 76/76 [00:03<00:00, 20.31it/s]\n",
            "Epoch 3/Multiclass Test: 100%|██████████| 19/19 [00:00<00:00, 48.56it/s]\n"
          ]
        },
        {
          "output_type": "stream",
          "name": "stdout",
          "text": [
            "Epoch 3, Multiclass Accuracy: 42.18%\n"
          ]
        },
        {
          "output_type": "stream",
          "name": "stderr",
          "text": [
            "Epoch 4/Multiclass Train: 100%|██████████| 76/76 [00:04<00:00, 15.98it/s]\n",
            "Epoch 4/Multiclass Test: 100%|██████████| 19/19 [00:00<00:00, 37.41it/s]\n"
          ]
        },
        {
          "output_type": "stream",
          "name": "stdout",
          "text": [
            "Epoch 4, Multiclass Accuracy: 46.34%\n"
          ]
        },
        {
          "output_type": "stream",
          "name": "stderr",
          "text": [
            "Epoch 5/Multiclass Train: 100%|██████████| 76/76 [00:04<00:00, 16.46it/s]\n",
            "Epoch 5/Multiclass Test: 100%|██████████| 19/19 [00:00<00:00, 49.70it/s]"
          ]
        },
        {
          "output_type": "stream",
          "name": "stdout",
          "text": [
            "Epoch 5, Multiclass Accuracy: 48.34%\n"
          ]
        },
        {
          "output_type": "stream",
          "name": "stderr",
          "text": [
            "\n"
          ]
        }
      ]
    },
    {
      "cell_type": "markdown",
      "source": [
        "# Reports"
      ],
      "metadata": {
        "id": "1tw8Souokqzg"
      }
    },
    {
      "cell_type": "code",
      "source": [
        "print(\"Binary Classification Report:\")\n",
        "print(classification_report(all_labels_bin, [1 if p >= 0.5 else 0 for p in all_preds_bin]))\n",
        "\n",
        "print(\"Multiclass Classification Report:\")\n",
        "print(classification_report(all_labels, all_preds, target_names=class_names))\n",
        "\n",
        "lstm_conf_matrix_multi = confusion_matrix(all_labels, all_preds)\n",
        "\n",
        "class_names = [label for label, _ in sorted(label_mapping.items(), key=lambda x: x[1])]\n",
        "sns.heatmap(lstm_conf_matrix_multi, annot=True, fmt='d', cmap='Blues', xticklabels=class_names, yticklabels=class_names)\n",
        "plt.title('Confusion Matrix')\n",
        "plt.xlabel('Predicted')\n",
        "plt.ylabel('True')\n",
        "plt.show()"
      ],
      "metadata": {
        "colab": {
          "base_uri": "https://localhost:8080/",
          "height": 894
        },
        "id": "QS-HS566fwcl",
        "outputId": "7810d178-5b28-4307-8550-96c2feee404d"
      },
      "execution_count": 279,
      "outputs": [
        {
          "output_type": "stream",
          "name": "stdout",
          "text": [
            "Binary Classification Report:\n",
            "              precision    recall  f1-score   support\n",
            "\n",
            "         0.0       0.81      0.98      0.88       933\n",
            "         1.0       0.70      0.18      0.29       269\n",
            "\n",
            "    accuracy                           0.80      1202\n",
            "   macro avg       0.75      0.58      0.59      1202\n",
            "weighted avg       0.78      0.80      0.75      1202\n",
            "\n",
            "Multiclass Classification Report:\n",
            "              precision    recall  f1-score   support\n",
            "\n",
            "      sexual       0.36      0.32      0.34       269\n",
            "     Neutral       0.49      0.44      0.46       239\n",
            "   Political       0.46      0.75      0.57       221\n",
            "       troll       0.34      0.27      0.30       231\n",
            "      Threat       0.80      0.67      0.73       242\n",
            "\n",
            "    accuracy                           0.48      1202\n",
            "   macro avg       0.49      0.49      0.48      1202\n",
            "weighted avg       0.49      0.48      0.48      1202\n",
            "\n"
          ]
        },
        {
          "output_type": "display_data",
          "data": {
            "text/plain": [
              "<Figure size 640x480 with 2 Axes>"
            ],
            "image/png": "[encoded data removed]"
          },
          "metadata": {}
        }
      ]
    },
    {
      "cell_type": "markdown",
      "source": [
        "# RNN Model"
      ],
      "metadata": {
        "id": "FO9_oEs4ll0X"
      }
    },
    {
      "cell_type": "code",
      "source": [
        "import torch.nn as nn\n",
        "\n",
        "class RNNModel(nn.Module):\n",
        "    def __init__(self, vocab_size, embedding_dim, hidden_dim, output_dim):\n",
        "        super(RNNModel, self).__init__()\n",
        "        self.embedding = nn.Embedding(vocab_size, embedding_dim)\n",
        "        self.rnn = nn.RNN(embedding_dim, hidden_dim, batch_first=True)\n",
        "        self.fc = nn.Linear(hidden_dim, output_dim)\n",
        "        self.sigmoid = nn.Sigmoid()\n",
        "\n",
        "    def forward(self, x):\n",
        "        embedded = self.embedding(x)\n",
        "        rnn_out, _ = self.rnn(embedded)\n",
        "        output = self.fc(rnn_out[:, -1, :])\n",
        "        output = self.sigmoid(output)\n",
        "        return output"
      ],
      "metadata": {
        "id": "yKpcx_wHlfsk"
      },
      "execution_count": 280,
      "outputs": []
    },
    {
      "cell_type": "code",
      "source": [
        "vocab_size = 10000\n",
        "embedding_dim = 50\n",
        "hidden_dim = 50\n",
        "output_dim_bin = 1\n",
        "output_dim_multi = 5\n",
        "\n",
        "rnn_model_bin = RNNModel(vocab_size, embedding_dim, hidden_dim, output_dim_bin)\n",
        "rnn_model_multi = RNNModel(vocab_size, embedding_dim, hidden_dim, output_dim_multi)\n",
        "\n",
        "print(rnn_model_bin)\n",
        "\n",
        "criterion_bin = nn.BCEWithLogitsLoss()\n",
        "criterion_multi = nn.CrossEntropyLoss()\n",
        "\n",
        "optimizer_bin = optim.Adam(rnn_model_bin.parameters(), lr=0.001)\n",
        "optimizer_multi = optim.Adam(rnn_model_multi.parameters(), lr=0.001)\n",
        "\n",
        "num_epochs = 5\n",
        "\n",
        "for epoch in range(num_epochs):\n",
        "    rnn_model_bin.train()\n",
        "    for inputs, labels in tqdm(train_bin_loader, desc=f'Epoch {epoch + 1}/Binary Train'):\n",
        "        optimizer_bin.zero_grad()\n",
        "        outputs = rnn_model_bin(inputs)\n",
        "        loss = criterion_bin(outputs.squeeze(), labels)\n",
        "        loss.backward()\n",
        "        optimizer_bin.step()\n",
        "\n",
        "    rnn_model_bin.eval()\n",
        "    with torch.no_grad():\n",
        "        all_preds_bin = []\n",
        "        all_labels_bin = []\n",
        "        for inputs, labels in tqdm(test_bin_loader, desc=f'Epoch {epoch + 1}/Binary Test'):\n",
        "            outputs = rnn_model_bin(inputs)\n",
        "            preds = torch.sigmoid(outputs.squeeze())\n",
        "            all_preds_bin.extend(preds.tolist())\n",
        "            all_labels_bin.extend(labels.tolist())\n",
        "\n",
        "        accuracy = accuracy_score(all_labels_bin, [1 if p >= 0.5 else 0 for p in all_preds_bin])\n",
        "        print(f'Epoch {epoch + 1}, Binary Accuracy: {accuracy * 100:.2f}%')\n",
        "\n",
        "num_epochs = 5\n",
        "\n",
        "for epoch in range(num_epochs):\n",
        "    lstm_model_multi.train()\n",
        "    for inputs, labels in tqdm(train_multi_loader, desc=f'Epoch {epoch + 1}/Multiclass Train'):\n",
        "        optimizer_multi.zero_grad()\n",
        "        outputs = lstm_model_multi(inputs)\n",
        "        loss = criterion_multi(outputs, labels)\n",
        "        loss.backward()\n",
        "        optimizer_multi.step()\n",
        "\n",
        "    rnn_model_multi.eval()\n",
        "    with torch.no_grad():\n",
        "        all_preds = []\n",
        "        all_labels = []\n",
        "        for inputs, labels in tqdm(test_multi_loader, desc=f'Epoch {epoch + 1}/Multiclass Test'):\n",
        "            outputs = rnn_model_multi(inputs)\n",
        "            _, preds = torch.max(outputs, 1)\n",
        "            all_preds.extend(preds.tolist())\n",
        "            all_labels.extend(labels.tolist())\n",
        "\n",
        "        accuracy = accuracy_score(all_labels, all_preds)\n",
        "        print(f'Epoch {epoch + 1}, Multiclass Accuracy: {accuracy * 100:.2f}%')"
      ],
      "metadata": {
        "colab": {
          "base_uri": "https://localhost:8080/"
        },
        "id": "l8VEqhPjmSYi",
        "outputId": "58cc703a-0991-43c4-b383-bbbc16ba4482"
      },
      "execution_count": 281,
      "outputs": [
        {
          "output_type": "stream",
          "name": "stdout",
          "text": [
            "RNNModel(\n",
            "  (embedding): Embedding(10000, 50)\n",
            "  (rnn): RNN(50, 50, batch_first=True)\n",
            "  (fc): Linear(in_features=50, out_features=1, bias=True)\n",
            "  (sigmoid): Sigmoid()\n",
            ")\n"
          ]
        },
        {
          "output_type": "stream",
          "name": "stderr",
          "text": [
            "Epoch 1/Binary Train: 100%|██████████| 76/76 [00:06<00:00, 11.55it/s]\n",
            "Epoch 1/Binary Test: 100%|██████████| 19/19 [00:00<00:00, 116.99it/s]\n"
          ]
        },
        {
          "output_type": "stream",
          "name": "stdout",
          "text": [
            "Epoch 1, Binary Accuracy: 22.38%\n"
          ]
        },
        {
          "output_type": "stream",
          "name": "stderr",
          "text": [
            "Epoch 2/Binary Train: 100%|██████████| 76/76 [00:06<00:00, 11.78it/s]\n",
            "Epoch 2/Binary Test: 100%|██████████| 19/19 [00:00<00:00, 131.35it/s]\n"
          ]
        },
        {
          "output_type": "stream",
          "name": "stdout",
          "text": [
            "Epoch 2, Binary Accuracy: 22.38%\n"
          ]
        },
        {
          "output_type": "stream",
          "name": "stderr",
          "text": [
            "Epoch 3/Binary Train: 100%|██████████| 76/76 [00:06<00:00, 11.16it/s]\n",
            "Epoch 3/Binary Test: 100%|██████████| 19/19 [00:00<00:00, 129.63it/s]\n"
          ]
        },
        {
          "output_type": "stream",
          "name": "stdout",
          "text": [
            "Epoch 3, Binary Accuracy: 22.38%\n"
          ]
        },
        {
          "output_type": "stream",
          "name": "stderr",
          "text": [
            "Epoch 4/Binary Train: 100%|██████████| 76/76 [00:06<00:00, 12.40it/s]\n",
            "Epoch 4/Binary Test: 100%|██████████| 19/19 [00:00<00:00, 128.21it/s]\n"
          ]
        },
        {
          "output_type": "stream",
          "name": "stdout",
          "text": [
            "Epoch 4, Binary Accuracy: 22.38%\n"
          ]
        },
        {
          "output_type": "stream",
          "name": "stderr",
          "text": [
            "Epoch 5/Binary Train: 100%|██████████| 76/76 [00:06<00:00, 11.52it/s]\n",
            "Epoch 5/Binary Test: 100%|██████████| 19/19 [00:00<00:00, 127.35it/s]\n"
          ]
        },
        {
          "output_type": "stream",
          "name": "stdout",
          "text": [
            "Epoch 5, Binary Accuracy: 22.38%\n"
          ]
        },
        {
          "output_type": "stream",
          "name": "stderr",
          "text": [
            "Epoch 1/Multiclass Train: 100%|██████████| 76/76 [00:03<00:00, 20.76it/s]\n",
            "Epoch 1/Multiclass Test: 100%|██████████| 19/19 [00:00<00:00, 131.35it/s]\n"
          ]
        },
        {
          "output_type": "stream",
          "name": "stdout",
          "text": [
            "Epoch 1, Multiclass Accuracy: 20.38%\n"
          ]
        },
        {
          "output_type": "stream",
          "name": "stderr",
          "text": [
            "Epoch 2/Multiclass Train: 100%|██████████| 76/76 [00:03<00:00, 20.21it/s]\n",
            "Epoch 2/Multiclass Test: 100%|██████████| 19/19 [00:00<00:00, 130.53it/s]\n"
          ]
        },
        {
          "output_type": "stream",
          "name": "stdout",
          "text": [
            "Epoch 2, Multiclass Accuracy: 20.38%\n"
          ]
        },
        {
          "output_type": "stream",
          "name": "stderr",
          "text": [
            "Epoch 3/Multiclass Train: 100%|██████████| 76/76 [00:04<00:00, 17.06it/s]\n",
            "Epoch 3/Multiclass Test: 100%|██████████| 19/19 [00:00<00:00, 92.68it/s]\n"
          ]
        },
        {
          "output_type": "stream",
          "name": "stdout",
          "text": [
            "Epoch 3, Multiclass Accuracy: 20.38%\n"
          ]
        },
        {
          "output_type": "stream",
          "name": "stderr",
          "text": [
            "Epoch 4/Multiclass Train: 100%|██████████| 76/76 [00:03<00:00, 19.44it/s]\n",
            "Epoch 4/Multiclass Test: 100%|██████████| 19/19 [00:00<00:00, 118.97it/s]\n"
          ]
        },
        {
          "output_type": "stream",
          "name": "stdout",
          "text": [
            "Epoch 4, Multiclass Accuracy: 20.38%\n"
          ]
        },
        {
          "output_type": "stream",
          "name": "stderr",
          "text": [
            "Epoch 5/Multiclass Train: 100%|██████████| 76/76 [00:04<00:00, 18.10it/s]\n",
            "Epoch 5/Multiclass Test: 100%|██████████| 19/19 [00:00<00:00, 136.65it/s]"
          ]
        },
        {
          "output_type": "stream",
          "name": "stdout",
          "text": [
            "Epoch 5, Multiclass Accuracy: 20.38%\n"
          ]
        },
        {
          "output_type": "stream",
          "name": "stderr",
          "text": [
            "\n"
          ]
        }
      ]
    },
    {
      "cell_type": "markdown",
      "source": [
        "# Report"
      ],
      "metadata": {
        "id": "oBQBjL-EvS9V"
      }
    },
    {
      "cell_type": "code",
      "source": [
        "print(\"Binary Classification Report:\")\n",
        "print(classification_report(all_labels_bin, [1 if p >= 0.5 else 0 for p in all_preds_bin]))\n",
        "\n",
        "print(\"Classification Report:\")\n",
        "print(classification_report(all_labels, all_preds, target_names=class_names))\n",
        "\n",
        "conf_matrix = confusion_matrix(all_labels, all_preds)\n",
        "plt.figure(figsize=(8, 6))\n",
        "sns.heatmap(conf_matrix, annot=True, fmt='d', cmap='Blues', xticklabels=class_names, yticklabels=class_names)\n",
        "plt.title('Confusion Matrix')\n",
        "plt.xlabel('Predicted')\n",
        "plt.ylabel('True')\n",
        "plt.show()"
      ],
      "metadata": {
        "colab": {
          "base_uri": "https://localhost:8080/",
          "height": 986
        },
        "id": "W-etQ7hIsOqj",
        "outputId": "4bf5a4a8-3d1e-491c-fd52-577ee1553cbe"
      },
      "execution_count": 282,
      "outputs": [
        {
          "output_type": "stream",
          "name": "stdout",
          "text": [
            "Binary Classification Report:\n",
            "              precision    recall  f1-score   support\n",
            "\n",
            "         0.0       0.00      0.00      0.00       933\n",
            "         1.0       0.22      1.00      0.37       269\n",
            "\n",
            "    accuracy                           0.22      1202\n",
            "   macro avg       0.11      0.50      0.18      1202\n",
            "weighted avg       0.05      0.22      0.08      1202\n",
            "\n",
            "Classification Report:\n",
            "              precision    recall  f1-score   support\n",
            "\n",
            "      sexual       0.23      0.16      0.19       269\n",
            "     Neutral       0.28      0.15      0.20       239\n",
            "   Political       0.17      0.35      0.23       221\n",
            "       troll       0.22      0.31      0.26       231\n",
            "      Threat       0.18      0.06      0.09       242\n",
            "\n",
            "    accuracy                           0.20      1202\n",
            "   macro avg       0.22      0.21      0.19      1202\n",
            "weighted avg       0.22      0.20      0.19      1202\n",
            "\n"
          ]
        },
        {
          "output_type": "display_data",
          "data": {
            "text/plain": [
              "<Figure size 800x600 with 2 Axes>"
            ],
            "image/png": "[encoded data removed]"
          },
          "metadata": {}
        }
      ]
    },
    {
      "cell_type": "code",
      "source": [],
      "metadata": {
        "id": "pa3Krx9rucbi"
      },
      "execution_count": 282,
      "outputs": []
    }
  ]
}